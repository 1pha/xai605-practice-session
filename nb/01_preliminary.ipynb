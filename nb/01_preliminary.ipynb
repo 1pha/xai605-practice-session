{
 "cells": [
  {
   "attachments": {},
   "cell_type": "markdown",
   "metadata": {},
   "source": [
    "# 01. Preliminary\n",
    "\n",
    "Reviewing & previewing some basic linear algebras that are implemented in well-known algorithms and how they are implemented."
   ]
  },
  {
   "cell_type": "code",
   "execution_count": 1,
   "metadata": {},
   "outputs": [],
   "source": [
    "import sys\n",
    "sys.path.append(\"../\")"
   ]
  },
  {
   "cell_type": "code",
   "execution_count": 122,
   "metadata": {},
   "outputs": [],
   "source": [
    "import matplotlib.pyplot as plt\n",
    "import numpy as np\n",
    "import numpy.linalg as nl\n",
    "import scipy\n",
    "from sklearn.datasets import fetch_lfw_people\n",
    "\n",
    "import linalg"
   ]
  },
  {
   "cell_type": "code",
   "execution_count": 12,
   "metadata": {},
   "outputs": [],
   "source": [
    "A = np.array(([1, 2, 3], [4, 5, 6]))\n",
    "B = A.T\n",
    "C = np.array([[1, 2, 3], [4, 5, 6], [7, 8, 9]])"
   ]
  },
  {
   "attachments": {},
   "cell_type": "markdown",
   "metadata": {},
   "source": [
    "## 01. SVD"
   ]
  },
  {
   "attachments": {},
   "cell_type": "markdown",
   "metadata": {},
   "source": [
    "### `numpy.linalg.svd`\n",
    "\n",
    "- Finding a approximate eignevectors \n",
    "- [API Reference](https://numpy.org/doc/stable/reference/generated/numpy.linalg.svd.html)\n",
    "- Factorized as $A=USV^T$\n",
    "    - If True (default), U and Vh are of shape (M, M), (N, N). If False, the shapes are (M, K) and (K, N), where K = min(M, N).\n",
    "    - Normally, $K$ is rank of $A$."
   ]
  },
  {
   "cell_type": "code",
   "execution_count": 75,
   "metadata": {},
   "outputs": [
    {
     "name": "stdout",
     "output_type": "stream",
     "text": [
      "(2, 2) (2,) (2, 3)\n",
      "[[-0.3863177  -0.92236578]\n",
      " [-0.92236578  0.3863177 ]] [9.508032   0.77286964] [[-0.42866713 -0.56630692 -0.7039467 ]\n",
      " [ 0.80596391  0.11238241 -0.58119908]]\n"
     ]
    },
    {
     "data": {
      "text/plain": [
       "(array([[1, 2, 3],\n",
       "        [4, 5, 6]]),\n",
       " array([[1., 2., 3.],\n",
       "        [4., 5., 6.]]))"
      ]
     },
     "execution_count": 75,
     "metadata": {},
     "output_type": "execute_result"
    }
   ],
   "source": [
    "u, s, vh = nl.svd(\n",
    "    a=A,\n",
    "    full_matrices=False, # Return \n",
    "    compute_uv=True,\n",
    "    hermitian=False, # Assume a is a Hermitian (symmetric). Uses more efficient method\n",
    ")\n",
    "\n",
    "# Shape of decomposed result\n",
    "print(u.shape, s.shape, vh.shape)\n",
    "print(u, s, vh)\n",
    "\n",
    "A, u @ (s * np.identity(n=s.size)) @ vh"
   ]
  },
  {
   "cell_type": "code",
   "execution_count": 76,
   "metadata": {},
   "outputs": [
    {
     "data": {
      "text/plain": [
       "(array([[1, 2, 3],\n",
       "        [4, 5, 6]]),\n",
       " array([[1., 2., 3.],\n",
       "        [4., 5., 6.]]))"
      ]
     },
     "execution_count": 76,
     "metadata": {},
     "output_type": "execute_result"
    }
   ],
   "source": [
    "# Order of singular values does not matter\n",
    "A, u[:, ::-1] @ (s * np.identity(n=s.size))[::-1, ::-1] @ vh[::-1, :]"
   ]
  },
  {
   "cell_type": "code",
   "execution_count": 63,
   "metadata": {},
   "outputs": [
    {
     "name": "stdout",
     "output_type": "stream",
     "text": [
      "(2, 2) (2,) (3, 3)\n",
      "[[-0.3863177  -0.92236578]\n",
      " [-0.92236578  0.3863177 ]] [9.508032   0.77286964] [[-0.42866713 -0.56630692 -0.7039467 ]\n",
      " [ 0.80596391  0.11238241 -0.58119908]\n",
      " [ 0.40824829 -0.81649658  0.40824829]]\n"
     ]
    }
   ],
   "source": [
    "u, s, vh = nl.svd(\n",
    "    a=A,\n",
    "    full_matrices=True, # Return \n",
    "    compute_uv=True,\n",
    "    hermitian=False, # Assume a is a Hermitian (symmetric). Uses more efficient method\n",
    ")\n",
    "\n",
    "# Shape of decomposed result\n",
    "print(u.shape, s.shape, vh.shape)\n",
    "print(u, s, vh)"
   ]
  },
  {
   "attachments": {},
   "cell_type": "markdown",
   "metadata": {},
   "source": [
    "- $U$ and $V$ are called left/right eigenvectors\n",
    "- They can be obtained by calculating eigenvectors for $A^TA$ and $AA^T$\n",
    "    - $A^TA=(USV^T)^T \\times (USV^T) = VS^TU^T \\times USV^T = VS^2V^T$\n",
    "    - $AA^T=(USV^T) \\times (USV^T)^T = USV^T \\times VS^TU^T = US^2U^T$\n",
    "\n",
    "Let's check if they are true. Note that directions of eigenvectors may be opposite"
   ]
  },
  {
   "attachments": {},
   "cell_type": "markdown",
   "metadata": {},
   "source": [
    "#### Find Left Eigenvectors"
   ]
  },
  {
   "cell_type": "code",
   "execution_count": 98,
   "metadata": {},
   "outputs": [],
   "source": [
    "w, u_ = nl.eigh(A @ A.T) # Returns eigenvalue, eigenvector for hermitian matrix"
   ]
  },
  {
   "cell_type": "code",
   "execution_count": 99,
   "metadata": {},
   "outputs": [
    {
     "data": {
      "text/plain": [
       "(array([0.77286964, 9.508032  ]), array([0.77286964, 9.508032  ]))"
      ]
     },
     "execution_count": 99,
     "metadata": {},
     "output_type": "execute_result"
    }
   ],
   "source": [
    "# Check eigenvalues\n",
    "w = np.sqrt(w)\n",
    "s.sort()\n",
    "w, s"
   ]
  },
  {
   "cell_type": "code",
   "execution_count": 100,
   "metadata": {},
   "outputs": [
    {
     "data": {
      "text/plain": [
       "(array([[ 0.3863177 ,  0.92236578],\n",
       "        [-0.92236578,  0.3863177 ]]),\n",
       " array([[-0.3863177 , -0.92236578],\n",
       "        [-0.92236578,  0.3863177 ]]))"
      ]
     },
     "execution_count": 100,
     "metadata": {},
     "output_type": "execute_result"
    }
   ],
   "source": [
    "# Eigenvalue sorting\n",
    "idx = (-w).argsort()\n",
    "u_[idx], u"
   ]
  },
  {
   "attachments": {},
   "cell_type": "markdown",
   "metadata": {},
   "source": [
    "#### Find Right Eigenvectors"
   ]
  },
  {
   "cell_type": "code",
   "execution_count": 101,
   "metadata": {},
   "outputs": [],
   "source": [
    "w, v = nl.eigh(A.T @ A) # Returns eigenvalue, eigenvector for hermitian matrix"
   ]
  },
  {
   "cell_type": "code",
   "execution_count": 59,
   "metadata": {},
   "outputs": [
    {
     "data": {
      "text/plain": [
       "(array([[-0.42866713, -0.56630692, -0.7039467 ],\n",
       "        [-0.80596391, -0.11238241,  0.58119908],\n",
       "        [ 0.40824829, -0.81649658,  0.40824829]]),\n",
       " array([[-0.42866713, -0.56630692, -0.7039467 ],\n",
       "        [ 0.80596391,  0.11238241, -0.58119908],\n",
       "        [ 0.40824829, -0.81649658,  0.40824829]]))"
      ]
     },
     "execution_count": 59,
     "metadata": {},
     "output_type": "execute_result"
    }
   ],
   "source": [
    "idx = (-w).argsort()\n",
    "v.T[idx], vh"
   ]
  },
  {
   "attachments": {},
   "cell_type": "markdown",
   "metadata": {},
   "source": [
    "## 02. PCA\n",
    "\n",
    "Self-implemented PCA\n",
    "1. Get centered data (image)\n",
    "2. Find covariance matrix of a centered images\n",
    "3. Find left singular vector of centered images OR get top-k eigenvectors of covariance matrix\n",
    "4. Transform with left singular eigenvectors\n"
   ]
  },
  {
   "attachments": {},
   "cell_type": "markdown",
   "metadata": {},
   "source": [
    "#### 02-0. Get Images"
   ]
  },
  {
   "cell_type": "code",
   "execution_count": 110,
   "metadata": {},
   "outputs": [
    {
     "data": {
      "text/plain": [
       "((1288, 1850), (50, 37))"
      ]
     },
     "execution_count": 110,
     "metadata": {},
     "output_type": "execute_result"
    }
   ],
   "source": [
    "lfw_people = fetch_lfw_people(min_faces_per_person=70, resize=0.4)\n",
    "lfw_people[\"data\"].shape, lfw_people[\"images\"][0].shape"
   ]
  },
  {
   "cell_type": "code",
   "execution_count": 118,
   "metadata": {},
   "outputs": [],
   "source": [
    "num_data = lfw_people[\"data\"].shape[0]\n",
    "H, W = lfw_people[\"images\"][0].shape\n",
    "num_feats = lfw_people[\"data\"].shape[1]\n",
    "assert num_feats == H * W"
   ]
  },
  {
   "cell_type": "code",
   "execution_count": null,
   "metadata": {},
   "outputs": [],
   "source": [
    "def plot_face(arr: np.ndarray, cmap=\"gray\", ax=None):\n",
    "    if ax is None:\n",
    "        fig, ax = plt.subplots(figsize=())"
   ]
  },
  {
   "cell_type": "code",
   "execution_count": 126,
   "metadata": {},
   "outputs": [
    {
     "data": {
      "image/png": "[encoded data removed]",
      "text/plain": [
       "<Figure size 640x480 with 1 Axes>"
      ]
     },
     "metadata": {},
     "output_type": "display_data"
    }
   ],
   "source": [
    "plt.imshow(lfw_people[\"images\"][0], cmap=\"gray\");"
   ]
  },
  {
   "attachments": {},
   "cell_type": "markdown",
   "metadata": {},
   "source": [
    "#### 02-1. Get Centered data"
   ]
  },
  {
   "cell_type": "code",
   "execution_count": 281,
   "metadata": {},
   "outputs": [],
   "source": [
    "X = lfw_people[\"data\"] # (num_data, num_feats)\n",
    "mu = X.mean(axis=0) # (num_feats,)\n",
    "assert mu.size == num_feats\n",
    "\n",
    "Y = X - mu # (num_data, num_feats), centered"
   ]
  },
  {
   "attachments": {},
   "cell_type": "markdown",
   "metadata": {},
   "source": [
    "#### 02-2-1. With Covariance Matrix\n",
    "- Use Eigenvectors of covariance matrix. Choose top-k"
   ]
  },
  {
   "cell_type": "code",
   "execution_count": 343,
   "metadata": {},
   "outputs": [],
   "source": [
    "top_k = 200"
   ]
  },
  {
   "cell_type": "code",
   "execution_count": 344,
   "metadata": {},
   "outputs": [],
   "source": [
    "cov = (Y @ Y.T) / num_data\n",
    "w, v = nl.eigh(a=cov)"
   ]
  },
  {
   "cell_type": "code",
   "execution_count": 353,
   "metadata": {},
   "outputs": [
    {
     "data": {
      "text/plain": [
       "(1288, 200)"
      ]
     },
     "execution_count": 353,
     "metadata": {},
     "output_type": "execute_result"
    }
   ],
   "source": [
    "eig = v[(-np.abs(w)).argsort(), :top_k]\n",
    "eig.shape"
   ]
  },
  {
   "cell_type": "code",
   "execution_count": 354,
   "metadata": {},
   "outputs": [],
   "source": [
    "beta = eig.T @ Y # (top_k, num_feats)"
   ]
  },
  {
   "cell_type": "code",
   "execution_count": 355,
   "metadata": {},
   "outputs": [],
   "source": [
    "recon = ((eig @ beta)).reshape(-1, H, W)"
   ]
  },
  {
   "cell_type": "code",
   "execution_count": 356,
   "metadata": {},
   "outputs": [],
   "source": [
    "eigen_faces = beta.reshape(-1, H, W)"
   ]
  },
  {
   "cell_type": "code",
   "execution_count": 360,
   "metadata": {},
   "outputs": [
    {
     "data": {
      "text/plain": [
       "<matplotlib.image.AxesImage at 0x17fba88b0>"
      ]
     },
     "execution_count": 360,
     "metadata": {},
     "output_type": "execute_result"
    },
    {
     "data": {
      "image/png": "[encoded data removed]",
      "text/plain": [
       "<Figure size 640x480 with 1 Axes>"
      ]
     },
     "metadata": {},
     "output_type": "display_data"
    }
   ],
   "source": [
    "plt.imshow(X[1].reshape(H, W), cmap=\"gray\")"
   ]
  },
  {
   "cell_type": "code",
   "execution_count": 359,
   "metadata": {},
   "outputs": [
    {
     "data": {
      "text/plain": [
       "<matplotlib.image.AxesImage at 0x17fb34f10>"
      ]
     },
     "execution_count": 359,
     "metadata": {},
     "output_type": "execute_result"
    },
    {
     "data": {
      "image/png": "[encoded data removed]",
      "text/plain": [
       "<Figure size 640x480 with 1 Axes>"
      ]
     },
     "metadata": {},
     "output_type": "display_data"
    }
   ],
   "source": [
    "plt.imshow(recon[1], cmap=\"gray\")"
   ]
  },
  {
   "attachments": {},
   "cell_type": "markdown",
   "metadata": {},
   "source": [
    "#### 02-2-1. With Centered data\n",
    "- Use Left-singular vector"
   ]
  },
  {
   "cell_type": "code",
   "execution_count": 318,
   "metadata": {},
   "outputs": [],
   "source": [
    "u, s, vh = nl.svd(a=Y, full_matrices=False)\n",
    "u.shape, s.shape, vh.shape\n",
    "\n",
    "u, vh = svd_flip(u, vh)"
   ]
  },
  {
   "cell_type": "code",
   "execution_count": 249,
   "metadata": {},
   "outputs": [],
   "source": [
    "top_k = 1200\n",
    "ls = u[:, :top_k]"
   ]
  },
  {
   "cell_type": "code",
   "execution_count": 276,
   "metadata": {},
   "outputs": [],
   "source": [
    "ls = u[(-w).argsort(), :top_k]"
   ]
  },
  {
   "attachments": {},
   "cell_type": "markdown",
   "metadata": {},
   "source": [
    "#### 02-4. Get low-dimensional Fetaure vectors\n",
    "\n",
    "- Original data: (num_data, num_feats)\n",
    "- Minimized data:\n",
    "    - Low-dimensional features: (num_data, top_k)\n",
    "    - Recon vectors (top-k orthonormal eigenvectors from left-singular): (num_feats, top_k)"
   ]
  },
  {
   "cell_type": "code",
   "execution_count": 274,
   "metadata": {},
   "outputs": [],
   "source": [
    "from linalg.utils import svd_flip"
   ]
  },
  {
   "cell_type": "code",
   "execution_count": 277,
   "metadata": {},
   "outputs": [],
   "source": [
    "beta = (ls.T @ Y) # (top_k, num_data)"
   ]
  },
  {
   "cell_type": "code",
   "execution_count": 278,
   "metadata": {},
   "outputs": [
    {
     "data": {
      "text/plain": [
       "(1850, 1288)"
      ]
     },
     "execution_count": 278,
     "metadata": {},
     "output_type": "execute_result"
    }
   ],
   "source": [
    "(ls @ beta).shape"
   ]
  },
  {
   "cell_type": "code",
   "execution_count": 279,
   "metadata": {},
   "outputs": [],
   "source": [
    "recon = ((ls @ beta) + mu).reshape(-1, H, W)"
   ]
  },
  {
   "cell_type": "code",
   "execution_count": 280,
   "metadata": {},
   "outputs": [
    {
     "data": {
      "image/png": "[encoded data removed]",
      "text/plain": [
       "<Figure size 640x480 with 1 Axes>"
      ]
     },
     "metadata": {},
     "output_type": "display_data"
    }
   ],
   "source": [
    "plt.imshow(recon[10], cmap=\"gray\");"
   ]
  },
  {
   "cell_type": "code",
   "execution_count": null,
   "metadata": {},
   "outputs": [],
   "source": []
  }
 ],
 "metadata": {
  "kernelspec": {
   "display_name": "vis",
   "language": "python",
   "name": "python3"
  },
  "language_info": {
   "codemirror_mode": {
    "name": "ipython",
    "version": 3
   },
   "file_extension": ".py",
   "mimetype": "text/x-python",
   "name": "python",
   "nbconvert_exporter": "python",
   "pygments_lexer": "ipython3",
   "version": "3.10.9"
  },
  "orig_nbformat": 4
 },
 "nbformat": 4,
 "nbformat_minor": 2
}
